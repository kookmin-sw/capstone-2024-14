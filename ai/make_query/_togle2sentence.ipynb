{
  "nbformat": 4,
  "nbformat_minor": 0,
  "metadata": {
    "colab": {
      "provenance": []
    },
    "kernelspec": {
      "name": "python3",
      "display_name": "Python 3"
    },
    "language_info": {
      "name": "python"
    }
  },
  "cells": [
    {
      "cell_type": "markdown",
      "source": [
        "### Query 작성"
      ],
      "metadata": {
        "id": "wzp5zPzq8n_z"
      }
    },
    {
      "cell_type": "markdown",
      "source": [
        "- gender_and_age = man, woman, boy, girl\n",
        "- hair = long hair, short hair\n",
        "- top_color = red, orange, yellow, green, blue, purple, pink. white, black, brown\n",
        "- top_type = short sleeve shirt, long sleeve shirt\n",
        "- bottom_color = red, orange, yellow, green, blue, purple, pink. white, black, brown\n",
        "- bottom type = short pants, long pants, skirt\n",
        "- bag = backpack, bag"
      ],
      "metadata": {
        "id": "ApyDrpUjXHor"
      }
    },
    {
      "cell_type": "code",
      "source": [
        "togle = [\"boy\", \"short hair\", \"black\", \"short sleeve shirt\", \"brown\", \"short pants\"]\n",
        "gender_and_age, hair, top_color, top_type, bottom_color, bottom_type = togle\n",
        "bag = \"backpack\""
      ],
      "metadata": {
        "id": "tDIzj7kQ4O6y"
      },
      "execution_count": 1,
      "outputs": []
    },
    {
      "cell_type": "code",
      "source": [
        "if gender_and_age == \"man\" or gender_and_age == \"boy\":\n",
        "    gender = \"He\"\n",
        "else:\n",
        "    gender = \"She\""
      ],
      "metadata": {
        "id": "W4Ze6yBv6zrw"
      },
      "execution_count": 2,
      "outputs": []
    },
    {
      "cell_type": "code",
      "source": [
        "query = f\"A {gender_and_age} wearing a {top_color} {top_type} and a {bottom_color} {bottom_type}. \""
      ],
      "metadata": {
        "id": "AW5WdAbw6w6b"
      },
      "execution_count": 3,
      "outputs": []
    },
    {
      "cell_type": "code",
      "execution_count": 5,
      "metadata": {
        "id": "mQXJ2Zuj29vT"
      },
      "outputs": [],
      "source": [
        "# 손에 드는 건 carrying이 미세하게 더 나은 결과를 보임 (holding ↔ carrying)\n",
        "if bag == \"backpack\":\n",
        "    query += f\"{gender} has {hair}. {gender} is carrying a {bag}.\"\n",
        "elif bag == \"bag\":\n",
        "    query += f\"{gender} has {hair}. {gender} is holding a {bag}.\"\n",
        "else:\n",
        "    query += f\"{gender} has {hair}.\""
      ]
    },
    {
      "cell_type": "code",
      "source": [
        "print(query)"
      ],
      "metadata": {
        "colab": {
          "base_uri": "https://localhost:8080/"
        },
        "id": "6hQ-QjF_5Fxs",
        "outputId": "e8b7fc29-ec60-4a61-955a-41f6bfb85757"
      },
      "execution_count": 6,
      "outputs": [
        {
          "output_type": "stream",
          "name": "stdout",
          "text": [
            "A boy wearing a black short sleeve shirt and a brown short pants. He has short hair. He is carrying a backpack.\n"
          ]
        }
      ]
    },
    {
      "cell_type": "markdown",
      "source": [
        "### 번역"
      ],
      "metadata": {
        "id": "te_w8pn_8q4Z"
      }
    },
    {
      "cell_type": "code",
      "source": [
        "!pip install openai"
      ],
      "metadata": {
        "colab": {
          "base_uri": "https://localhost:8080/"
        },
        "id": "rC_G2wWr7_bm",
        "outputId": "4385f644-6bfa-478d-c3b0-cf0ab1ae3611"
      },
      "execution_count": 7,
      "outputs": [
        {
          "output_type": "stream",
          "name": "stdout",
          "text": [
            "Collecting openai\n",
            "  Downloading openai-1.23.3-py3-none-any.whl (311 kB)\n",
            "\u001b[?25l     \u001b[90m━━━━━━━━━━━━━━━━━━━━━━━━━━━━━━━━━━━━━━━━\u001b[0m \u001b[32m0.0/311.5 kB\u001b[0m \u001b[31m?\u001b[0m eta \u001b[36m-:--:--\u001b[0m\r\u001b[2K     \u001b[91m━━━━━━━━━━━━━━━━━━━━━\u001b[0m\u001b[90m╺\u001b[0m\u001b[90m━━━━━━━━━━━━━━━━━━\u001b[0m \u001b[32m163.8/311.5 kB\u001b[0m \u001b[31m4.7 MB/s\u001b[0m eta \u001b[36m0:00:01\u001b[0m\r\u001b[2K     \u001b[90m━━━━━━━━━━━━━━━━━━━━━━━━━━━━━━━━━━━━━━━━\u001b[0m \u001b[32m311.5/311.5 kB\u001b[0m \u001b[31m5.7 MB/s\u001b[0m eta \u001b[36m0:00:00\u001b[0m\n",
            "\u001b[?25hRequirement already satisfied: anyio<5,>=3.5.0 in /usr/local/lib/python3.10/dist-packages (from openai) (3.7.1)\n",
            "Requirement already satisfied: distro<2,>=1.7.0 in /usr/lib/python3/dist-packages (from openai) (1.7.0)\n",
            "Collecting httpx<1,>=0.23.0 (from openai)\n",
            "  Downloading httpx-0.27.0-py3-none-any.whl (75 kB)\n",
            "\u001b[2K     \u001b[90m━━━━━━━━━━━━━━━━━━━━━━━━━━━━━━━━━━━━━━━━\u001b[0m \u001b[32m75.6/75.6 kB\u001b[0m \u001b[31m5.3 MB/s\u001b[0m eta \u001b[36m0:00:00\u001b[0m\n",
            "\u001b[?25hRequirement already satisfied: pydantic<3,>=1.9.0 in /usr/local/lib/python3.10/dist-packages (from openai) (2.7.0)\n",
            "Requirement already satisfied: sniffio in /usr/local/lib/python3.10/dist-packages (from openai) (1.3.1)\n",
            "Requirement already satisfied: tqdm>4 in /usr/local/lib/python3.10/dist-packages (from openai) (4.66.2)\n",
            "Requirement already satisfied: typing-extensions<5,>=4.7 in /usr/local/lib/python3.10/dist-packages (from openai) (4.11.0)\n",
            "Requirement already satisfied: idna>=2.8 in /usr/local/lib/python3.10/dist-packages (from anyio<5,>=3.5.0->openai) (3.7)\n",
            "Requirement already satisfied: exceptiongroup in /usr/local/lib/python3.10/dist-packages (from anyio<5,>=3.5.0->openai) (1.2.1)\n",
            "Requirement already satisfied: certifi in /usr/local/lib/python3.10/dist-packages (from httpx<1,>=0.23.0->openai) (2024.2.2)\n",
            "Collecting httpcore==1.* (from httpx<1,>=0.23.0->openai)\n",
            "  Downloading httpcore-1.0.5-py3-none-any.whl (77 kB)\n",
            "\u001b[2K     \u001b[90m━━━━━━━━━━━━━━━━━━━━━━━━━━━━━━━━━━━━━━━━\u001b[0m \u001b[32m77.9/77.9 kB\u001b[0m \u001b[31m9.0 MB/s\u001b[0m eta \u001b[36m0:00:00\u001b[0m\n",
            "\u001b[?25hCollecting h11<0.15,>=0.13 (from httpcore==1.*->httpx<1,>=0.23.0->openai)\n",
            "  Downloading h11-0.14.0-py3-none-any.whl (58 kB)\n",
            "\u001b[2K     \u001b[90m━━━━━━━━━━━━━━━━━━━━━━━━━━━━━━━━━━━━━━━━\u001b[0m \u001b[32m58.3/58.3 kB\u001b[0m \u001b[31m7.9 MB/s\u001b[0m eta \u001b[36m0:00:00\u001b[0m\n",
            "\u001b[?25hRequirement already satisfied: annotated-types>=0.4.0 in /usr/local/lib/python3.10/dist-packages (from pydantic<3,>=1.9.0->openai) (0.6.0)\n",
            "Requirement already satisfied: pydantic-core==2.18.1 in /usr/local/lib/python3.10/dist-packages (from pydantic<3,>=1.9.0->openai) (2.18.1)\n",
            "Installing collected packages: h11, httpcore, httpx, openai\n",
            "Successfully installed h11-0.14.0 httpcore-1.0.5 httpx-0.27.0 openai-1.23.3\n"
          ]
        }
      ]
    },
    {
      "cell_type": "code",
      "source": [
        "import openai\n",
        "\n",
        "OPENAI_API_KEY = \"\"  # openAI-API 키를 넣으세요\n",
        "openai.api_key = OPENAI_API_KEY\n",
        "\n",
        "def translate_english_to_korean(text):\n",
        "    response = openai.chat.completions.create(\n",
        "    model = \"gpt-3.5-turbo\",\n",
        "    presence_penalty = 0.9,\n",
        "    messages = [\n",
        "            {\"role\": \"system\", \"content\": \"\"\"\n",
        "            You are a translator.\n",
        "            I will provide you with the information of the character's description in English, so please translate this information into Korean correctly.\n",
        "\n",
        "            An example is as follows.\n",
        "\n",
        "            Case 1.\n",
        "            Input sentence: A woman wearing a blue long sleeve shirt and a pair of white short pants. She has long hair. He is holding a bag.\n",
        "            Desired Translation: 긴 머리. 파란색 긴팔 셔츠와 흰 반바지를 입고, 가방을 들고 있음.\n",
        "\n",
        "            Case 2.\n",
        "            Input sentence: A boy wearing a black long sleeve shirt and a pair of black long pants. He has long hair.\n",
        "            Desired Translation: 긴 머리. 검정 긴팔 셔츠와 검정 긴 바지를 입고 있음.\n",
        "\n",
        "            Case 3.\n",
        "            Input sentence: A girl wearing a red long sleeve shirt and a white skirt. She has short hair. She is carrying a backpack.\n",
        "            Desired Translation: 짧은 머리. 빨간 긴팔 셔츠와 흰 치마를 입고, 가방을 메고 있음.\n",
        "\n",
        "            Case 4.\n",
        "            Input sentence: A man wearing a orange short sleeve shirt and a pair of blue long pants. He has short hair. He is carrying a backpack.\n",
        "            Desired Translation: 짧은 머리. 주황색 반팔 셔츠와 파란색 긴 바지를 입고, 가방을 메고 있음.\n",
        "\n",
        "            Case 5.\n",
        "            Input sentence: A girl wearing a purple short sleeve shirt and a pair of pink short pants. He has short hair. He is holding a backpack.\n",
        "            Desired Translation: 짧은 머리. 보라색 반팔 셔츠와 핑크색 반바지를 입고, 가방을 들고 있음.\n",
        "\n",
        "            Please respond to every sentence simply.\n",
        "            \"\"\"},\n",
        "            {\"role\": \"user\", \"content\": text},\n",
        "    ]\n",
        "    )\n",
        "\n",
        "    return response.choices[0].message.content\n",
        "\n",
        "english_text = query\n",
        "korean_text = translate_english_to_korean(english_text)\n",
        "print(\"Eng query: \", english_text)\n",
        "print(\"Kor query: \", korean_text)"
      ],
      "metadata": {
        "colab": {
          "base_uri": "https://localhost:8080/"
        },
        "id": "YyvXhvf6Dlhf",
        "outputId": "8f0ce866-6e7a-42e2-87e8-a925d27a5f57"
      },
      "execution_count": 8,
      "outputs": [
        {
          "output_type": "stream",
          "name": "stdout",
          "text": [
            "Eng query:  A boy wearing a black short sleeve shirt and a brown short pants. He has short hair. He is carrying a backpack.\n",
            "Kor query:  짧은 머리. 검정 반팔 셔츠와 갈색 반바지를 입고, 가방을 메고 있음.\n"
          ]
        }
      ]
    },
    {
      "cell_type": "code",
      "source": [],
      "metadata": {
        "id": "fjQE0nYrGB72"
      },
      "execution_count": null,
      "outputs": []
    }
  ]
}